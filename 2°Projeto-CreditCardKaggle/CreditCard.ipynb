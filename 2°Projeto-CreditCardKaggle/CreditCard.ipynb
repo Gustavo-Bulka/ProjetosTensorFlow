{
 "cells": [
  {
   "cell_type": "markdown",
   "metadata": {},
   "source": [
    "# Projeto 2 - Detecção de Fraude em Cartão de Crédito Kaggle"
   ]
  },
  {
   "cell_type": "markdown",
   "metadata": {},
   "source": [
    "###### Nesse projeto iremos usar métodos de Machine Learning para a classificação de Fraudes de Cartão de Crédito com o intuito de obter uma precisão maior que 99% e menos de 50 erros "
   ]
  },
  {
   "cell_type": "markdown",
   "metadata": {},
   "source": [
    "###### Importando a database"
   ]
  },
  {
   "cell_type": "code",
   "execution_count": 4,
   "metadata": {},
   "outputs": [],
   "source": [
    "import pandas as pd \n",
    "database = pd.read_csv(r\"C:\\Users\\gusta\\Desktop\\2°Projeto-CreditCardKaggle\\creditcard.csv\")"
   ]
  },
  {
   "cell_type": "markdown",
   "metadata": {},
   "source": [
    "###### Pré Processamento da Database"
   ]
  },
  {
   "cell_type": "code",
   "execution_count": 7,
   "metadata": {},
   "outputs": [],
   "source": [
    "\n",
    "# Como os dados estão muito desbalanceados temos localizacao das fraudes e das nao fraudes\n",
    "fraudes=database.loc[database['Class']==1]\n",
    "#Temos 492 Fraudes no total \n",
    "naoFraude = database.loc[database['Class']==0]\n",
    "#Como existem 284315 não fraudes vamos escolher 500 dados nao frudes para trabalhar\n",
    "#naoFraude= naoFraude[1000:3000]\n",
    "\n",
    "\n",
    "#Criando a database balanceada\n",
    "databaseB = pd.concat([fraudes,naoFraude])\n",
    "\n",
    "# Determinando quais colunas são os nossos previsores e qual a coluna de Classe\n",
    "previsores = databaseB.drop('Class',1)\n",
    "classe = databaseB['Class']\n",
    "\n",
    "# Escalonando os valores dos previsores\n",
    "\n",
    "from sklearn.preprocessing import StandardScaler\n",
    "scaler = StandardScaler()\n",
    "previsores = scaler.fit_transform(previsores)\n",
    "\n",
    "# Divisão da database em treinamento e teste \n",
    "\n",
    "from sklearn.model_selection import train_test_split\n",
    "previsoresTreinamento, previsoresTeste, classeTreinamento, classeTeste = train_test_split(previsores,\n",
    "                                                                                          classe,test_size=0.3,\n",
    "                                                                                          random_state = 0)\n"
   ]
  },
  {
   "cell_type": "markdown",
   "metadata": {},
   "source": [
    "#### Realizando Classificação por Naive Bayes"
   ]
  },
  {
   "cell_type": "code",
   "execution_count": 11,
   "metadata": {},
   "outputs": [],
   "source": [
    "\n",
    "from sklearn.naive_bayes import GaussianNB\n",
    "\n",
    "# Realizando o treinamento do algoritmo\n",
    "\n",
    "classificadorBayes = GaussianNB()\n",
    "classificadorBayes.fit(previsoresTreinamento,classeTreinamento)\n",
    "\n",
    "# Realizando o teste do algoritmo\n",
    "resultadosBayes = classificadorBayes.predict(previsoresTeste)\n",
    "\n",
    "# Comparando os resultados previstos com a classeTeste\n",
    "\n",
    "from sklearn.metrics import confusion_matrix,accuracy_score\n",
    "precisaoBayes = accuracy_score(classeTeste,resultadosBayes)\n",
    "matrizBayes = confusion_matrix(classeTeste,resultadosBayes)"
   ]
  },
  {
   "cell_type": "code",
   "execution_count": 14,
   "metadata": {},
   "outputs": [
    {
     "name": "stdout",
     "output_type": "stream",
     "text": [
      "A precisão do modelo é de:  0.9786641386655431\n",
      "A matriz de confusão do modelo é:\n"
     ]
    },
    {
     "data": {
      "text/plain": [
       "array([[83495,  1795],\n",
       "       [   28,   125]], dtype=int64)"
      ]
     },
     "execution_count": 14,
     "metadata": {},
     "output_type": "execute_result"
    }
   ],
   "source": [
    "print(\"A precisão do modelo é de: \",precisaoBayes)\n",
    "print(\"A matriz de confusão do modelo é:\")\n",
    "matrizBayes"
   ]
  },
  {
   "cell_type": "markdown",
   "metadata": {},
   "source": [
    "Para o esse modelo houve uma precisão boa porém com 1823 erros de classificação "
   ]
  },
  {
   "cell_type": "markdown",
   "metadata": {},
   "source": [
    "#### Realizando classificação por Árvore de Decisão "
   ]
  },
  {
   "cell_type": "code",
   "execution_count": 18,
   "metadata": {},
   "outputs": [],
   "source": [
    "\n",
    "from sklearn.tree import DecisionTreeClassifier\n",
    "classificadorTree = DecisionTreeClassifier(criterion='entropy', random_state=0)\n",
    "classificadorTree.fit(previsoresTreinamento, classeTreinamento)\n",
    "previsoesTree = classificadorTree.predict(previsoresTeste)\n",
    "\n",
    "from sklearn.metrics import confusion_matrix, accuracy_score\n",
    "precisaoTree = accuracy_score(classeTeste, previsoesTree)\n",
    "matrizTree = confusion_matrix(classeTeste, previsoesTree)\n",
    "\n",
    "from sklearn.tree import export\n",
    "export.export_graphviz(classificadorTree,\n",
    "                        out_file ='arvore.dot', \n",
    "                        feature_names = ['Time','V1','V2','V3','V4','V5','V6','V7','V8','V9','V10','V11','V12','V13',\n",
    "                                         'V14','V15','V16','V17','V18','V19','V20','V21','V22','V23','V24','V25','V26',\n",
    "                                         'V27','V28','Amount'],\n",
    "                        class_names = ['Fraude','NaoFraude'],\n",
    "                        filled = True,\n",
    "                        leaves_parallel = True)"
   ]
  },
  {
   "cell_type": "code",
   "execution_count": 19,
   "metadata": {},
   "outputs": [
    {
     "name": "stdout",
     "output_type": "stream",
     "text": [
      "A precisão do modelo é de:  0.9991924440855307\n",
      "A matriz de confusão do modelo é:\n"
     ]
    },
    {
     "data": {
      "text/plain": [
       "array([[85262,    28],\n",
       "       [   41,   112]], dtype=int64)"
      ]
     },
     "execution_count": 19,
     "metadata": {},
     "output_type": "execute_result"
    }
   ],
   "source": [
    "print(\"A precisão do modelo é de: \",precisaoTree)\n",
    "print(\"A matriz de confusão do modelo é:\")\n",
    "matrizTree"
   ]
  },
  {
   "cell_type": "markdown",
   "metadata": {},
   "source": [
    "Para o esse modelo houve uma precisão boa com 69 erros de classificação , número muito menor que o modelo anterior"
   ]
  },
  {
   "cell_type": "markdown",
   "metadata": {},
   "source": [
    "#### Final -  Realizando a Classificação por Random Forest"
   ]
  },
  {
   "cell_type": "code",
   "execution_count": 21,
   "metadata": {},
   "outputs": [],
   "source": [
    "\n",
    "from sklearn.ensemble import RandomForestClassifier\n",
    "classificadorRF = RandomForestClassifier(n_estimators=10,\n",
    "                                         criterion='entropy',\n",
    "                                         random_state=0)\n",
    "classificadorRF.fit(previsoresTreinamento,classeTreinamento)\n",
    "previsoesRF = classificadorRF.predict(previsoresTeste)\n",
    "\n",
    "from sklearn.metrics import confusion_matrix, accuracy_score\n",
    "precisaoRF = accuracy_score(classeTeste, previsoesRF)\n",
    "matrizRF = confusion_matrix(classeTeste, previsoesRF)"
   ]
  },
  {
   "cell_type": "code",
   "execution_count": 22,
   "metadata": {},
   "outputs": [
    {
     "name": "stdout",
     "output_type": "stream",
     "text": [
      "A precisão do modelo é de:  0.9994499256814484\n",
      "A matriz de confusão do modelo é:\n"
     ]
    },
    {
     "data": {
      "text/plain": [
       "array([[85282,     8],\n",
       "       [   39,   114]], dtype=int64)"
      ]
     },
     "execution_count": 22,
     "metadata": {},
     "output_type": "execute_result"
    }
   ],
   "source": [
    "print(\"A precisão do modelo é de: \",precisaoRF)\n",
    "print(\"A matriz de confusão do modelo é:\")\n",
    "matrizRF"
   ]
  },
  {
   "cell_type": "markdown",
   "metadata": {},
   "source": [
    "Para o esse modelo houve uma precisão boa com 47 erros de classificação, assim concluindo o objetivo"
   ]
  },
  {
   "cell_type": "markdown",
   "metadata": {},
   "source": [
    "#### Extra - Realizando a Classificação por KNN"
   ]
  },
  {
   "cell_type": "code",
   "execution_count": null,
   "metadata": {},
   "outputs": [],
   "source": [
    "from sklearn.neighbors import KNeighborsClassifier\n",
    "classificadorKNN = KNeighborsClassifier(n_neighbors=3, metric='minkowski', p = 2)\n",
    "classificadorKNN.fit(previsoresTreinamento, classeTreinamento)\n",
    "previsoesKNN = classificadorKNN.predict(previsoresTeste)\n",
    "\n",
    "#Verificando a precisao do algoritmo  \n",
    "from sklearn.metrics import confusion_matrix, accuracy_score\n",
    "precisaoKNN = accuracy_score(classeTeste, previsoesKNN)\n",
    "matrizKNN = confusion_matrix(classeTeste, previsoesKNN)\n",
    "print(1)"
   ]
  },
  {
   "cell_type": "markdown",
   "metadata": {},
   "source": [
    "#### Extra - Realizando a classificação Por Suport Vector Machine "
   ]
  },
  {
   "cell_type": "code",
   "execution_count": null,
   "metadata": {},
   "outputs": [],
   "source": [
    "\n",
    "from sklearn.svm import SVC \n",
    "classificadorSVM = SVC(kernel = 'rbf', random_state = 1, C = 20.0)\n",
    "classificadorSVM.fit(previsoresTreinamentoreinamento, classeTreinamentoreinamento)\n",
    "previsoesSVM = classificadorSVm.predict(previsoresTesteeste)\n",
    "\n",
    "from sklearn.metrics import confusion_matrix, accuracy_score\n",
    "precisaoSVM = accuracy_score(classeTesteeste, previsoesSVM)\n",
    "matrizSVM = confusion_matrix(classeTesteeste, previsoesSVM)"
   ]
  }
 ],
 "metadata": {
  "kernelspec": {
   "display_name": "Python 3",
   "language": "python",
   "name": "python3"
  },
  "language_info": {
   "codemirror_mode": {
    "name": "ipython",
    "version": 3
   },
   "file_extension": ".py",
   "mimetype": "text/x-python",
   "name": "python",
   "nbconvert_exporter": "python",
   "pygments_lexer": "ipython3",
   "version": "3.7.6"
  }
 },
 "nbformat": 4,
 "nbformat_minor": 4
}
