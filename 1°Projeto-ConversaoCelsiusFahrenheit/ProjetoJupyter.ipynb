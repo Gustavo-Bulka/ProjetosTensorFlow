{
 "cells": [
  {
   "cell_type": "markdown",
   "metadata": {},
   "source": [
    "# Projeto 1 - Regressão de temperatura °C para °F com uso de Perceptron"
   ]
  },
  {
   "cell_type": "markdown",
   "metadata": {},
   "source": [
    "Com o Uso do perceptron vamos fazer ele descobrir a formula de conversão com o modelo mais simples de Perceptron\n",
    "##### Formula de conversão \n",
    "T(°F) = T(°C)*(9/5)+32\n",
    "##### Modelo da do Perceptron\n",
    "T(°F) = T(°C)*W1 + Bias "
   ]
  },
  {
   "cell_type": "markdown",
   "metadata": {},
   "source": [
    "###### Importando as bibliotecas "
   ]
  },
  {
   "cell_type": "code",
   "execution_count": 13,
   "metadata": {},
   "outputs": [],
   "source": [
    "import numpy as np \n",
    "import tensorflow as tf \n",
    "import matplotlib.pyplot as plt\n",
    "import numpy as np \n",
    "import seaborn as sb"
   ]
  },
  {
   "cell_type": "markdown",
   "metadata": {},
   "source": [
    "#### Importação do dataset "
   ]
  },
  {
   "cell_type": "code",
   "execution_count": 20,
   "metadata": {},
   "outputs": [
    {
     "data": {
      "text/html": [
       "<div>\n",
       "<style scoped>\n",
       "    .dataframe tbody tr th:only-of-type {\n",
       "        vertical-align: middle;\n",
       "    }\n",
       "\n",
       "    .dataframe tbody tr th {\n",
       "        vertical-align: top;\n",
       "    }\n",
       "\n",
       "    .dataframe thead th {\n",
       "        text-align: right;\n",
       "    }\n",
       "</style>\n",
       "<table border=\"1\" class=\"dataframe\">\n",
       "  <thead>\n",
       "    <tr style=\"text-align: right;\">\n",
       "      <th></th>\n",
       "      <th>Celsius</th>\n",
       "      <th>Fahrenheit</th>\n",
       "    </tr>\n",
       "  </thead>\n",
       "  <tbody>\n",
       "    <tr>\n",
       "      <th>0</th>\n",
       "      <td>-50</td>\n",
       "      <td>-58.0</td>\n",
       "    </tr>\n",
       "    <tr>\n",
       "      <th>1</th>\n",
       "      <td>-40</td>\n",
       "      <td>-40.0</td>\n",
       "    </tr>\n",
       "    <tr>\n",
       "      <th>2</th>\n",
       "      <td>-30</td>\n",
       "      <td>-22.0</td>\n",
       "    </tr>\n",
       "    <tr>\n",
       "      <th>3</th>\n",
       "      <td>-20</td>\n",
       "      <td>-4.0</td>\n",
       "    </tr>\n",
       "  </tbody>\n",
       "</table>\n",
       "</div>"
      ],
      "text/plain": [
       "   Celsius  Fahrenheit\n",
       "0      -50       -58.0\n",
       "1      -40       -40.0\n",
       "2      -30       -22.0\n",
       "3      -20        -4.0"
      ]
     },
     "execution_count": 20,
     "metadata": {},
     "output_type": "execute_result"
    }
   ],
   "source": [
    "dataset = pd.read_csv(r\"C:\\Users\\gusta\\Desktop\\ConversaoCelsiusFahrenheit\\temperaturas.csv\")\n",
    "dataset.head(4)"
   ]
  },
  {
   "cell_type": "code",
   "execution_count": 21,
   "metadata": {},
   "outputs": [
    {
     "data": {
      "text/plain": [
       "<matplotlib.axes._subplots.AxesSubplot at 0x223c6fa9388>"
      ]
     },
     "execution_count": 21,
     "metadata": {},
     "output_type": "execute_result"
    },
    {
     "data": {
      "image/png": "[encoded data removed]",
      "text/plain": [
       "<Figure size 432x288 with 1 Axes>"
      ]
     },
     "metadata": {
      "needs_background": "light"
     },
     "output_type": "display_data"
    }
   ],
   "source": [
    "sb.scatterplot(dataset['Celsius'],dataset['Fahrenheit'])"
   ]
  },
  {
   "cell_type": "markdown",
   "metadata": {},
   "source": [
    "#### Definindo as variaveis de treinamento e teste "
   ]
  },
  {
   "cell_type": "code",
   "execution_count": 22,
   "metadata": {},
   "outputs": [],
   "source": [
    "XTreinamento = dataset['Celsius']\n",
    "YTreinamento = dataset['Fahrenheit']"
   ]
  },
  {
   "cell_type": "markdown",
   "metadata": {},
   "source": [
    "##### Construção do modelo do perceptron"
   ]
  },
  {
   "cell_type": "code",
   "execution_count": 26,
   "metadata": {},
   "outputs": [
    {
     "name": "stdout",
     "output_type": "stream",
     "text": [
      "Model: \"sequential\"\n",
      "_________________________________________________________________\n",
      "Layer (type)                 Output Shape              Param #   \n",
      "=================================================================\n",
      "dense (Dense)                (None, 1)                 2         \n",
      "=================================================================\n",
      "Total params: 2\n",
      "Trainable params: 2\n",
      "Non-trainable params: 0\n",
      "_________________________________________________________________\n"
     ]
    }
   ],
   "source": [
    "# Criando uma rede neural usando o keras para criar uma sequencia de camadas\n",
    "modelo = tf.keras.Sequential()\n",
    "# Adicionando uma camada a nossa rede neural \n",
    "# Essa camada  vai possuir layers.Dense que significa que todos neuronios de uma camada está ligado a todos os outros\n",
    "# neuronios da camada seguinte \n",
    "# Teremos uma entrada input_shape = 1 e teremos uma saída units = 1\n",
    "modelo.add(tf.keras.layers.Dense(units = 1, input_shape = [1]))\n",
    "modelo.summary()"
   ]
  },
  {
   "cell_type": "markdown",
   "metadata": {},
   "source": [
    "Temos acima que a rede neural criada possui dois parametros ou seja é uma rede neural simples com 1 peso e o Bias como parametros "
   ]
  },
  {
   "cell_type": "markdown",
   "metadata": {},
   "source": [
    "###### Será utilizado o método de descida do gradiente por meio do método Adam com uma taxa de aprendizagem de 0,5 e 100 épocas"
   ]
  },
  {
   "cell_type": "code",
   "execution_count": 32,
   "metadata": {},
   "outputs": [],
   "source": [
    "modelo.compile(optimizer=tf.keras.optimizers.Adam(0.5),loss = 'mean_squared_error')"
   ]
  },
  {
   "cell_type": "markdown",
   "metadata": {},
   "source": [
    "###### Realizando o Treinamento "
   ]
  },
  {
   "cell_type": "code",
   "execution_count": 33,
   "metadata": {},
   "outputs": [
    {
     "name": "stdout",
     "output_type": "stream",
     "text": [
      "Train on 30 samples\n",
      "Epoch 1/100\n",
      "30/30 [==============================] - 0s 6ms/sample - loss: 2.4402e-10\n",
      "Epoch 2/100\n",
      "30/30 [==============================] - 0s 100us/sample - loss: 118.9433\n",
      "Epoch 3/100\n",
      "30/30 [==============================] - 0s 66us/sample - loss: 6.9095\n",
      "Epoch 4/100\n",
      "30/30 [==============================] - 0s 67us/sample - loss: 29.8330\n",
      "Epoch 5/100\n",
      "30/30 [==============================] - 0s 66us/sample - loss: 70.2640\n",
      "Epoch 6/100\n",
      "30/30 [==============================] - 0s 67us/sample - loss: 48.9775\n",
      "Epoch 7/100\n",
      "30/30 [==============================] - 0s 33us/sample - loss: 11.8102\n",
      "Epoch 8/100\n",
      "30/30 [==============================] - 0s 67us/sample - loss: 0.9199\n",
      "Epoch 9/100\n",
      "30/30 [==============================] - 0s 100us/sample - loss: 18.4249\n",
      "Epoch 10/100\n",
      "30/30 [==============================] - 0s 33us/sample - loss: 34.7827\n",
      "Epoch 11/100\n",
      "30/30 [==============================] - 0s 66us/sample - loss: 30.3886\n",
      "Epoch 12/100\n",
      "30/30 [==============================] - 0s 32us/sample - loss: 13.1593\n",
      "Epoch 13/100\n",
      "30/30 [==============================] - 0s 66us/sample - loss: 0.9856\n",
      "Epoch 14/100\n",
      "30/30 [==============================] - 0s 67us/sample - loss: 3.0803\n",
      "Epoch 15/100\n",
      "30/30 [==============================] - 0s 33us/sample - loss: 13.3355\n",
      "Epoch 16/100\n",
      "30/30 [==============================] - 0s 133us/sample - loss: 18.8557\n",
      "Epoch 17/100\n",
      "30/30 [==============================] - 0s 33us/sample - loss: 14.2708\n",
      "Epoch 18/100\n",
      "30/30 [==============================] - 0s 66us/sample - loss: 5.1272\n",
      "Epoch 19/100\n",
      "30/30 [==============================] - 0s 133us/sample - loss: 0.1607\n",
      "Epoch 20/100\n",
      "30/30 [==============================] - 0s 66us/sample - loss: 2.6921\n",
      "Epoch 21/100\n",
      "30/30 [==============================] - 0s 99us/sample - loss: 8.3286\n",
      "Epoch 22/100\n",
      "30/30 [==============================] - 0s 65us/sample - loss: 10.4210\n",
      "Epoch 23/100\n",
      "30/30 [==============================] - 0s 100us/sample - loss: 7.0492\n",
      "Epoch 24/100\n",
      "30/30 [==============================] - 0s 33us/sample - loss: 1.9943\n",
      "Epoch 25/100\n",
      "30/30 [==============================] - 0s 65us/sample - loss: 0.0404\n",
      "Epoch 26/100\n",
      "30/30 [==============================] - 0s 66us/sample - loss: 2.1860\n",
      "Epoch 27/100\n",
      "30/30 [==============================] - 0s 100us/sample - loss: 5.2077\n",
      "Epoch 28/100\n",
      "30/30 [==============================] - 0s 66us/sample - loss: 5.5605\n",
      "Epoch 29/100\n",
      "30/30 [==============================] - 0s 66us/sample - loss: 3.0588\n",
      "Epoch 30/100\n",
      "30/30 [==============================] - 0s 33us/sample - loss: 0.4904\n",
      "Epoch 31/100\n",
      "30/30 [==============================] - 0s 33us/sample - loss: 0.2777\n",
      "Epoch 32/100\n",
      "30/30 [==============================] - 0s 100us/sample - loss: 2.0269\n",
      "Epoch 33/100\n",
      "30/30 [==============================] - 0s 100us/sample - loss: 3.3501\n",
      "Epoch 34/100\n",
      "30/30 [==============================] - 0s 33us/sample - loss: 2.7168\n",
      "Epoch 35/100\n",
      "30/30 [==============================] - 0s 100us/sample - loss: 0.9629\n",
      "Epoch 36/100\n",
      "30/30 [==============================] - 0s 66us/sample - loss: 0.0108\n",
      "Epoch 37/100\n",
      "30/30 [==============================] - 0s 67us/sample - loss: 0.6148\n",
      "Epoch 38/100\n",
      "30/30 [==============================] - 0s 66us/sample - loss: 1.7063\n",
      "Epoch 39/100\n",
      "30/30 [==============================] - 0s 67us/sample - loss: 1.8601\n",
      "Epoch 40/100\n",
      "30/30 [==============================] - 0s 66us/sample - loss: 0.9550\n",
      "Epoch 41/100\n",
      "30/30 [==============================] - 0s 66us/sample - loss: 0.1024\n",
      "Epoch 42/100\n",
      "30/30 [==============================] - 0s 66us/sample - loss: 0.1820\n",
      "Epoch 43/100\n",
      "30/30 [==============================] - 0s 33us/sample - loss: 0.8600\n",
      "Epoch 44/100\n",
      "30/30 [==============================] - 0s 67us/sample - loss: 1.1629\n",
      "Epoch 45/100\n",
      "30/30 [==============================] - 0s 67us/sample - loss: 0.7245\n",
      "Epoch 46/100\n",
      "30/30 [==============================] - 0s 66us/sample - loss: 0.1258\n",
      "Epoch 47/100\n",
      "30/30 [==============================] - 0s 100us/sample - loss: 0.0505\n",
      "Epoch 48/100\n",
      "30/30 [==============================] - 0s 100us/sample - loss: 0.4439\n",
      "Epoch 49/100\n",
      "30/30 [==============================] - 0s 33us/sample - loss: 0.6944\n",
      "Epoch 50/100\n",
      "30/30 [==============================] - 0s 133us/sample - loss: 0.4735\n",
      "Epoch 51/100\n",
      "30/30 [==============================] - 0s 33us/sample - loss: 0.0976\n",
      "Epoch 52/100\n",
      "30/30 [==============================] - 0s 133us/sample - loss: 0.0283\n",
      "Epoch 53/100\n",
      "30/30 [==============================] - 0s 67us/sample - loss: 0.2666\n",
      "Epoch 54/100\n",
      "30/30 [==============================] - 0s 66us/sample - loss: 0.4240\n",
      "Epoch 55/100\n",
      "30/30 [==============================] - 0s 67us/sample - loss: 0.2827\n",
      "Epoch 56/100\n",
      "30/30 [==============================] - 0s 67us/sample - loss: 0.0500\n",
      "Epoch 57/100\n",
      "30/30 [==============================] - 0s 67us/sample - loss: 0.0204\n",
      "Epoch 58/100\n",
      "30/30 [==============================] - 0s 66us/sample - loss: 0.1749\n",
      "Epoch 59/100\n",
      "30/30 [==============================] - 0s 66us/sample - loss: 0.2570\n",
      "Epoch 60/100\n",
      "30/30 [==============================] - 0s 66us/sample - loss: 0.1521\n",
      "Epoch 61/100\n",
      "30/30 [==============================] - 0s 33us/sample - loss: 0.0183\n",
      "Epoch 62/100\n",
      "30/30 [==============================] - 0s 167us/sample - loss: 0.0273\n",
      "Epoch 63/100\n",
      "30/30 [==============================] - 0s 66us/sample - loss: 0.1283\n",
      "Epoch 64/100\n",
      "30/30 [==============================] - 0s 67us/sample - loss: 0.1536\n",
      "Epoch 65/100\n",
      "30/30 [==============================] - 0s 133us/sample - loss: 0.0696\n",
      "Epoch 66/100\n",
      "30/30 [==============================] - 0s 67us/sample - loss: 0.0016\n",
      "Epoch 67/100\n",
      "30/30 [==============================] - 0s 33us/sample - loss: 0.0323\n",
      "Epoch 68/100\n",
      "30/30 [==============================] - 0s 33us/sample - loss: 0.0923\n",
      "Epoch 69/100\n",
      "30/30 [==============================] - 0s 100us/sample - loss: 0.0836\n",
      "Epoch 70/100\n",
      "30/30 [==============================] - 0s 33us/sample - loss: 0.0239\n",
      "Epoch 71/100\n",
      "30/30 [==============================] - 0s 100us/sample - loss: 0.0021\n",
      "Epoch 72/100\n",
      "30/30 [==============================] - 0s 33us/sample - loss: 0.0371\n",
      "Epoch 73/100\n",
      "30/30 [==============================] - 0s 33us/sample - loss: 0.0625\n",
      "Epoch 74/100\n",
      "30/30 [==============================] - 0s 66us/sample - loss: 0.0376\n",
      "Epoch 75/100\n",
      "30/30 [==============================] - 0s 66us/sample - loss: 0.0034\n",
      "Epoch 76/100\n",
      "30/30 [==============================] - 0s 66us/sample - loss: 0.0082\n",
      "Epoch 77/100\n",
      "30/30 [==============================] - 0s 33us/sample - loss: 0.0341\n",
      "Epoch 78/100\n",
      "30/30 [==============================] - 0s 166us/sample - loss: 0.0353\n",
      "Epoch 79/100\n",
      "30/30 [==============================] - 0s 33us/sample - loss: 0.0114\n",
      "Epoch 80/100\n",
      "30/30 [==============================] - 0s 33us/sample - loss: 5.9726e-04\n",
      "Epoch 81/100\n",
      "30/30 [==============================] - 0s 33us/sample - loss: 0.0145\n",
      "Epoch 82/100\n",
      "30/30 [==============================] - 0s 33us/sample - loss: 0.0251\n",
      "Epoch 83/100\n",
      "30/30 [==============================] - 0s 66us/sample - loss: 0.0143\n",
      "Epoch 84/100\n",
      "30/30 [==============================] - 0s 33us/sample - loss: 8.5902e-04\n",
      "Epoch 85/100\n",
      "30/30 [==============================] - 0s 67us/sample - loss: 0.0044\n",
      "Epoch 86/100\n",
      "30/30 [==============================] - 0s 33us/sample - loss: 0.0148\n",
      "Epoch 87/100\n",
      "30/30 [==============================] - 0s 33us/sample - loss: 0.0131\n",
      "Epoch 88/100\n",
      "30/30 [==============================] - 0s 33us/sample - loss: 0.0029\n",
      "Epoch 89/100\n",
      "30/30 [==============================] - 0s 33us/sample - loss: 9.0563e-04\n",
      "Epoch 90/100\n",
      "30/30 [==============================] - 0s 67us/sample - loss: 0.0077\n",
      "Epoch 91/100\n",
      "30/30 [==============================] - 0s 33us/sample - loss: 0.0098\n",
      "Epoch 92/100\n",
      "30/30 [==============================] - 0s 166us/sample - loss: 0.0037\n",
      "Epoch 93/100\n",
      "30/30 [==============================] - 0s 33us/sample - loss: 1.1065e-05\n",
      "Epoch 94/100\n",
      "30/30 [==============================] - 0s 67us/sample - loss: 0.0036\n",
      "Epoch 95/100\n",
      "30/30 [==============================] - 0s 33us/sample - loss: 0.0066\n",
      "Epoch 96/100\n",
      "30/30 [==============================] - 0s 133us/sample - loss: 0.0037\n",
      "Epoch 97/100\n",
      "30/30 [==============================] - 0s 67us/sample - loss: 1.7357e-04\n"
     ]
    },
    {
     "name": "stdout",
     "output_type": "stream",
     "text": [
      "Epoch 98/100\n",
      "30/30 [==============================] - 0s 33us/sample - loss: 0.0016\n",
      "Epoch 99/100\n",
      "30/30 [==============================] - 0s 33us/sample - loss: 0.0042\n",
      "Epoch 100/100\n",
      "30/30 [==============================] - 0s 33us/sample - loss: 0.0030\n"
     ]
    }
   ],
   "source": [
    "treinamento = modelo.fit(XTreinamento,YTreinamento,epochs=100)"
   ]
  },
  {
   "cell_type": "markdown",
   "metadata": {},
   "source": [
    "O treinamento resultou em um erro de 0.0030 com a gradual diminuição do erro como mostrado a seguir"
   ]
  },
  {
   "cell_type": "code",
   "execution_count": 35,
   "metadata": {},
   "outputs": [
    {
     "data": {
      "image/png": "[encoded data removed]",
      "text/plain": [
       "<Figure size 432x288 with 1 Axes>"
      ]
     },
     "metadata": {
      "needs_background": "light"
     },
     "output_type": "display_data"
    }
   ],
   "source": [
    "plt.plot(treinamento.history['loss'])\n",
    "plt.title('Model Loss Progress During Training')\n",
    "plt.xlabel('Epoch')\n",
    "plt.ylabel('Training loss')\n",
    "plt.legend(['Training loss']);"
   ]
  },
  {
   "cell_type": "markdown",
   "metadata": {},
   "source": [
    "Foram usadas 100 épocas, porem em a partir de 40 épocas já é possivel observar a estabilização do valor do erro assim poderiamos diminuir as épocas para melhorar o desempenho desse nosso modelo atual sendo desnecessárias as épocas a seguir "
   ]
  },
  {
   "cell_type": "markdown",
   "metadata": {},
   "source": [
    "##### Verificando o valor do peso W1 e do BIas "
   ]
  },
  {
   "cell_type": "code",
   "execution_count": 37,
   "metadata": {},
   "outputs": [
    {
     "data": {
      "text/plain": [
       "[array([[1.800779]], dtype=float32), array([32.000465], dtype=float32)]"
      ]
     },
     "execution_count": 37,
     "metadata": {},
     "output_type": "execute_result"
    }
   ],
   "source": [
    "modelo.get_weights()"
   ]
  },
  {
   "cell_type": "markdown",
   "metadata": {},
   "source": [
    "Como sabemos\n",
    "##### Formula de conversão \n",
    "T(°F) = T(°C)*(9/5)+32\n",
    "##### Modelo da do Perceptron\n",
    "T(°F) = T(°C)*W1 + Bias \n",
    "\n",
    "Nossa rede teve \n",
    "##### *Bias = 32.000465\n",
    "###### *W1 = 1.800779\n",
    "\n",
    "Assim houve total sucesso na construção do modelo em relação a formula de conversão "
   ]
  },
  {
   "cell_type": "markdown",
   "metadata": {},
   "source": [
    "##### Realizando a previsão das temperaturas com a rede neural "
   ]
  },
  {
   "cell_type": "code",
   "execution_count": 39,
   "metadata": {},
   "outputs": [
    {
     "data": {
      "text/plain": [
       "array([[68.016045],\n",
       "       [77.01994 ],\n",
       "       [86.023834],\n",
       "       [96.82851 ]], dtype=float32)"
      ]
     },
     "execution_count": 39,
     "metadata": {},
     "output_type": "execute_result"
    }
   ],
   "source": [
    "temperaturasEmCelsius = [20,25,30,36]\n",
    "previsoesRede = modelo.predict(temperaturasEmCelsius)\n",
    "previsoesRede"
   ]
  },
  {
   "cell_type": "markdown",
   "metadata": {},
   "source": [
    "##### Realizando a previsão das temperaturas com a fórmula"
   ]
  },
  {
   "cell_type": "code",
   "execution_count": 43,
   "metadata": {},
   "outputs": [
    {
     "data": {
      "text/plain": [
       "[68.0, 77.0, 86.0, 96.8]"
      ]
     },
     "execution_count": 43,
     "metadata": {},
     "output_type": "execute_result"
    }
   ],
   "source": [
    "previsoesFormula = []\n",
    "for i in temperaturasEmCelsius:\n",
    "    previsoesFormula.append(9/5*i+32)\n",
    "previsoesFormula"
   ]
  },
  {
   "cell_type": "code",
   "execution_count": null,
   "metadata": {},
   "outputs": [],
   "source": []
  }
 ],
 "metadata": {
  "kernelspec": {
   "display_name": "Python 3",
   "language": "python",
   "name": "python3"
  },
  "language_info": {
   "codemirror_mode": {
    "name": "ipython",
    "version": 3
   },
   "file_extension": ".py",
   "mimetype": "text/x-python",
   "name": "python",
   "nbconvert_exporter": "python",
   "pygments_lexer": "ipython3",
   "version": "3.7.6"
  }
 },
 "nbformat": 4,
 "nbformat_minor": 4
}
